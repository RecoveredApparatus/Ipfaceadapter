{
  "nbformat": 4,
  "nbformat_minor": 0,
  "metadata": {
    "colab": {
      "provenance": [],
      "gpuType": "T4"
    },
    "kernelspec": {
      "name": "python3",
      "display_name": "Python 3"
    },
    "language_info": {
      "name": "python"
    },
    "accelerator": "GPU"
  },
  "cells": [
    {
      "cell_type": "code",
      "execution_count": null,
      "metadata": {
        "id": "Lmv6upTfKtUt"
      },
      "outputs": [],
      "source": [
        "!wget https://huggingface.co/waveydaveygravy/Ip-Adapter-FaceID/resolve/main/ipface.zip\n",
        "!git lfs install"
      ]
    },
    {
      "cell_type": "code",
      "source": [
        "!unzip /content/ipface.zip"
      ],
      "metadata": {
        "id": "l3RHjuXxK74v"
      },
      "execution_count": null,
      "outputs": []
    },
    
    {
      "cell_type": "code",
      "source": [
        "%cd /content/Ip-Adapter-FaceID\n",
        "!pip install -r requirements.txt\n",
        "!pip install https://github.com/karaokenerds/python-audio-separator/releases/download/v0.12.1/onnxruntime_gpu-1.17.0-cp310-cp310-linux_x86_64.whl"
      ],
      "metadata": {
        "id": "LtjYQa2hLJpn"
      },
      "execution_count": null,
      "outputs": []
    },
    {
      "cell_type": "code",
      "source": [
        "!python /content/Ip-Adapter-FaceID/app.py"
      ],
      "metadata": {
        "id": "yktcqjv1LeIX"
      },
      "execution_count": null,
      "outputs": []
    }
  ]
}